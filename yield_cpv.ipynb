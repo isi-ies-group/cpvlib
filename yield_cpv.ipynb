{
 "cells": [
  {
   "cell_type": "code",
   "execution_count": 2,
   "metadata": {},
   "outputs": [],
   "source": [
    "import matplotlib.pyplot as plt\n",
    "import pvlib\n",
    "import cpvlib"
   ]
  },
  {
   "cell_type": "code",
   "execution_count": 3,
   "metadata": {},
   "outputs": [],
   "source": [
    "lat, lon = 40.4, -3.7\n",
    "\n",
    "data_pvgis = pvlib.iotools.get_pvgis_tmy(lat, lon)\n",
    "\n",
    "data_tmy = data_pvgis[0].rename(columns={\n",
    "    'Gb(n)': 'dni',\n",
    "    'G(h)': 'ghi',\n",
    "    'Gd(h)': 'dhi',\n",
    "    'T2m': 'temp_air',\n",
    "    'WS10m': 'wind_speed',\n",
    "})\n",
    "\n",
    "data_tmy = data_tmy.set_index(\n",
    "    data_tmy.index.map(lambda t: t.replace(year=2010)))\n",
    "\n",
    "data = data_tmy#['2010-06-01':'2010-06-01']\n",
    "\n",
    "location = pvlib.location.Location(\n",
    "    latitude=lat, longitude=lon, altitude=695, tz='utc')\n",
    "\n",
    "solpos = location.get_solarposition(data.index)\n"
   ]
  },
  {
   "cell_type": "code",
   "execution_count": 4,
   "metadata": {},
   "outputs": [
    {
     "name": "stdout",
     "output_type": "stream",
     "text": [
      "Pdc_stc=30 W, eff_a=30.01%\n"
     ]
    }
   ],
   "source": [
    "# %% Parámetros\n",
    "# R_sh_exp = 5.5, # exp. R paral VALOR_DEFECTO\n",
    "# EgRef = 1.121, # VALOR_DEFECTO\n",
    "# irrad_ref = 1000,\n",
    "# temp_ref = 25\n",
    "\n",
    "modulo = 'insolight'\n",
    "\n",
    "if modulo == 'insolight':\n",
    "    # Insolight (César)\n",
    "    cpv_mod_params = {\n",
    "        \"alpha_sc\": 0.00,\n",
    "        \"gamma_ref\": 5.524,\n",
    "        \"mu_gamma\": 0.003,\n",
    "        \"I_L_ref\": 0.96,\n",
    "        \"I_o_ref\": 1.7e-10,\n",
    "        \"R_sh_ref\": 5226,\n",
    "        \"R_sh_0\": 21000,\n",
    "        \"R_s\": 0.01,\n",
    "        \"EgRef\": 3.91,\n",
    "        \"cells_in_series\": 12,\n",
    "    }\n",
    "    \n",
    "    A = 0.10  # m2\n",
    "\n",
    "    # UF\n",
    "    # para usa los UF hay que llamar a cpv_sys.get_global_utilization_factor_cpv()\n",
    "    # UF_parameters_cpv = {\n",
    "    #     \"IscDNI_top\": 0.96 / 1000,\n",
    "    #     \"am_thld\": 4.574231933073185,\n",
    "    #     \"am_uf_m_low\": 3.906372068620377e-06,\n",
    "    #     \"am_uf_m_high\": -3.0335768119184845e-05,\n",
    "    #     \"ta_thld\": 50,\n",
    "    #     \"ta_uf_m_low\": 4.6781224141650075e-06,\n",
    "    #     \"ta_uf_m_high\": 0,\n",
    "    #     \"weight_am\": 0.2,\n",
    "    #     \"weight_temp\": 0.8,\n",
    "    # }\n",
    "    \n",
    "    # cpv_mod_params.update(UF_parameters_cpv)\n",
    "\n",
    "elif modulo == 'soitec':\n",
    "    # Soitec CX-M500\n",
    "    cpv_mod_params = {\n",
    "        \"alpha_sc\": 0.00,\n",
    "        \"gamma_ref\": 3.664,\n",
    "        \"mu_gamma\": 0.003,\n",
    "        \"I_L_ref\": 3.861,\n",
    "        \"I_o_ref\": 0.005e-9,\n",
    "        \"R_sh_ref\": 3461,\n",
    "        \"R_sh_0\": 25000,\n",
    "        \"R_s\": 0.61,\n",
    "        \"EgRef\": 3.91,\n",
    "        \"cells_in_series\": 240,\n",
    "        \"irrad_ref\":943,\n",
    "        \"temp_ref\":64\n",
    "    }\n",
    "    \n",
    "    A = 7.386  # m2\n",
    "\n",
    "# calcula Pmp STC\n",
    "Pdc_stc = pvlib.pvsystem.singlediode(*cpvlib.CPVSystem(\n",
    "    module_parameters=cpv_mod_params\n",
    "    ).calcparams_pvsyst(\n",
    "    effective_irradiance=1000,\n",
    "    temp_cell=25))['p_mp']\n",
    "\n",
    "eff_a = Pdc_stc / (1000 * A)\n",
    "print(f'Pdc_stc={Pdc_stc:.0f} W, eff_a={eff_a:.2%}')\n",
    "\n",
    "temp_mod_params = {\"eta_m\": 0.32, \"alpha_absorption\": 0.9}\n",
    "# print(temp_mod_params)"
   ]
  },
  {
   "cell_type": "code",
   "execution_count": 5,
   "metadata": {},
   "outputs": [
    {
     "name": "stderr",
     "output_type": "stream",
     "text": [
      "C:\\Users\\Ruben\\Documents\\GitHub\\cpvlib\\cpvlib.py:188: pvlibDeprecationWarning: The pvsyst_celltemp function was deprecated in pvlib 0.7 and will be removed in 0.8. Use temperature.pvsyst_cell instead. Note that the argument names for temperature.pvsyst_cell are different than for pvsyst_celltemp\n",
      "  **kwargs)\n"
     ]
    }
   ],
   "source": [
    "#%% Modelo PVSyst\n",
    "cpv_sys = cpvlib.CPVSystem(\n",
    "    surface_tilt=37,\n",
    "    surface_azimuth=180,\n",
    "    # albedo=0.2,\n",
    "    module_parameters=cpv_mod_params,\n",
    "    temperature_model_parameters=temp_mod_params,\n",
    "    modules_per_string=1,\n",
    ")\n",
    "\n",
    "effective_irradiance = data['dni']\n",
    "\n",
    "pv_cell_temp = cpv_sys.pvsyst_celltemp(\n",
    "    poa_global=effective_irradiance,\n",
    "    temp_air=data['temp_air'],\n",
    "    wind_speed=data['wind_speed']\n",
    ")\n",
    "\n",
    "pv_diode_parameters = cpv_sys.calcparams_pvsyst(\n",
    "    effective_irradiance=effective_irradiance,\n",
    "    temp_cell=pv_cell_temp,\n",
    ")\n",
    "\n",
    "pv_power = cpv_sys.singlediode(*pv_diode_parameters)"
   ]
  },
  {
   "cell_type": "code",
   "execution_count": 6,
   "metadata": {},
   "outputs": [
    {
     "name": "stdout",
     "output_type": "stream",
     "text": [
      "PR=0.96, Ya=2079 kWh/kW, Yr=2176 kWh/kW\n"
     ]
    }
   ],
   "source": [
    "Yr = effective_irradiance.resample('M').sum() / 1000\n",
    "Ya = pv_power['p_mp'].resample('M').sum() / Pdc_stc\n",
    "\n",
    "Lc = Yr - Ya\n",
    "\n",
    "PR = Ya / Yr\n",
    "\n",
    "print(f'PR={Ya.sum()/Yr.sum():.2}, Ya={Ya.sum():.0f} kWh/kW, Yr={Yr.sum():.0f} kWh/kW')"
   ]
  },
  {
   "cell_type": "code",
   "execution_count": 7,
   "metadata": {},
   "outputs": [
    {
     "data": {
      "image/png": "[encoded data removed]",
      "text/plain": [
       "<Figure size 432x288 with 1 Axes>"
      ]
     },
     "metadata": {
      "needs_background": "light"
     },
     "output_type": "display_data"
    }
   ],
   "source": [
    "for G in [200, 400, 600, 800, 1000]:\n",
    "    d = cpv_sys.singlediode(*cpv_sys.calcparams_pvsyst(\n",
    "        effective_irradiance=G,\n",
    "        temp_cell=25,\n",
    "        ), ivcurve_pnts=20\n",
    "        )\n",
    "    plt.plot(d['v'], d['i'])"
   ]
  },
  {
   "cell_type": "code",
   "execution_count": 8,
   "metadata": {},
   "outputs": [
    {
     "data": {
      "image/png": "[encoded data removed]",
      "text/plain": [
       "<Figure size 432x288 with 1 Axes>"
      ]
     },
     "metadata": {
      "needs_background": "light"
     },
     "output_type": "display_data"
    }
   ],
   "source": [
    "for t in [10, 25, 40, 55, 70]:\n",
    "    d = cpv_sys.singlediode(*cpv_sys.calcparams_pvsyst(\n",
    "        effective_irradiance=1000,\n",
    "        temp_cell=t,\n",
    "        ), ivcurve_pnts=20\n",
    "        )\n",
    "    plt.plot(d['v'], d['i'])\n"
   ]
  },
  {
   "cell_type": "code",
   "execution_count": 9,
   "metadata": {},
   "outputs": [
    {
     "data": {
      "text/plain": [
       "[<matplotlib.lines.Line2D at 0x1b5df2ff0c8>]"
      ]
     },
     "execution_count": 9,
     "metadata": {},
     "output_type": "execute_result"
    },
    {
     "data": {
      "image/png": "[encoded data removed]",
      "text/plain": [
       "<Figure size 432x288 with 1 Axes>"
      ]
     },
     "metadata": {
      "needs_background": "light"
     },
     "output_type": "display_data"
    }
   ],
   "source": [
    "plt.plot(pv_cell_temp, pv_power['v_mp'], '.')"
   ]
  }
 ],
 "metadata": {
  "kernelspec": {
   "display_name": "Python 3",
   "language": "python",
   "name": "python3"
  },
  "language_info": {
   "codemirror_mode": {
    "name": "ipython",
    "version": 3
   },
   "file_extension": ".py",
   "mimetype": "text/x-python",
   "name": "python",
   "nbconvert_exporter": "python",
   "pygments_lexer": "ipython3",
   "version": "3.7.7"
  }
 },
 "nbformat": 4,
 "nbformat_minor": 4
}
