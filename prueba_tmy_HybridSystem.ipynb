{
 "cells": [
  {
   "cell_type": "code",
   "execution_count": 1,
   "metadata": {},
   "outputs": [],
   "source": [
    "import matplotlib.pyplot as plt\n",
    "import pvlib\n",
    "\n",
    "import cpvlib\n",
    "from parametros import mod_params_cpv, mod_params_diffuse, params_tracker"
   ]
  },
  {
   "cell_type": "code",
   "execution_count": 2,
   "metadata": {},
   "outputs": [],
   "source": [
    "IN_TRACKER = False\n",
    "\n",
    "lat, lon = 40.4, -3.7\n",
    "\n",
    "data_pvgis = pvlib.iotools.get_pvgis_tmy(lat, lon)\n",
    "\n",
    "data = data_pvgis[0].rename(columns={\n",
    "    'Gb(n)': 'dni',\n",
    "    'G(h)': 'ghi',\n",
    "    'Gd(h)': 'dhi',\n",
    "    'T2m': 'temp_air',\n",
    "    'WS10m': 'wind_speed',\n",
    "})\n",
    "\n",
    "location = pvlib.location.Location(\n",
    "    latitude=lat, longitude=lon, altitude=695, tz='utc')\n",
    "\n",
    "solar_zenith = location.get_solarposition(data.index).zenith\n",
    "solar_azimuth = location.get_solarposition(data.index).azimuth"
   ]
  },
  {
   "cell_type": "markdown",
   "metadata": {},
   "source": [
    "StaticHybridSystem"
   ]
  },
  {
   "cell_type": "code",
   "execution_count": 3,
   "metadata": {},
   "outputs": [],
   "source": [
    "static_hybrid_sys = cpvlib.StaticHybridSystem(\n",
    "    surface_tilt=30,\n",
    "    surface_azimuth=180,\n",
    "    module_cpv=None,\n",
    "    module_diffuse=None,\n",
    "    module_parameters_cpv=mod_params_cpv,\n",
    "    module_parameters_diffuse=mod_params_diffuse,\n",
    "    in_tracker=IN_TRACKER,\n",
    "    parameters_tracker=params_tracker,\n",
    "    modules_per_string=1,\n",
    "    strings_per_inverter=1,\n",
    "    inverter=None,\n",
    "    inverter_parameters=None,\n",
    "    racking_model=\"insulated\",\n",
    "    losses_parameters=None,\n",
    "    name=None,\n",
    ")"
   ]
  },
  {
   "cell_type": "markdown",
   "metadata": {},
   "source": [
    "get_effective_irradiance"
   ]
  },
  {
   "cell_type": "code",
   "execution_count": 4,
   "metadata": {},
   "outputs": [],
   "source": [
    "data['dii_effective'], data['poa_diffuse_static_effective'] = static_hybrid_sys.get_effective_irradiance(\n",
    "    solar_zenith,\n",
    "    solar_azimuth,\n",
    "    iam_param=0.7,\n",
    "    aoi_limit=55,\n",
    "    dii=None,\n",
    "    ghi=data['ghi'],\n",
    "    dhi=data['dhi'],\n",
    "    dni=data['dni']\n",
    ")"
   ]
  },
  {
   "cell_type": "markdown",
   "metadata": {},
   "source": [
    "pvsyst_celltemp"
   ]
  },
  {
   "cell_type": "code",
   "execution_count": 5,
   "metadata": {},
   "outputs": [
    {
     "name": "stderr",
     "output_type": "stream",
     "text": [
      "C:\\Users\\Ruben\\Documents\\GitHub\\cpvlib\\cpvlib.py:181: pvlibDeprecationWarning: The pvsyst_celltemp function was deprecated in pvlib 0.7 and will be removed in 0.8. Use temperature.pvsyst_cell instead. Note that the argument names for temperature.pvsyst_cell are different than for pvsyst_celltemp\n",
      "  **kwargs)\n",
      "C:\\Users\\Ruben\\Documents\\GitHub\\cpvlib\\cpvlib.py:597: pvlibDeprecationWarning: The pvsyst_celltemp function was deprecated in pvlib 0.7 and will be removed in 0.8. Use temperature.pvsyst_cell instead. Note that the argument names for temperature.pvsyst_cell are different than for pvsyst_celltemp\n",
      "  **kwargs)\n"
     ]
    }
   ],
   "source": [
    "data['temp_cell_35'], data['temp_cell_diffuse'] = static_hybrid_sys.pvsyst_celltemp(\n",
    "    dii=data['dii_effective'],\n",
    "    poa_diffuse_static=data['poa_diffuse_static_effective'],\n",
    "    temp_air=data['temp_air'],\n",
    "    wind_speed=data['wind_speed']\n",
    ")"
   ]
  },
  {
   "cell_type": "markdown",
   "metadata": {},
   "source": [
    "calcparams_pvsyst"
   ]
  },
  {
   "cell_type": "code",
   "execution_count": 6,
   "metadata": {},
   "outputs": [],
   "source": [
    "diode_parameters_cpv, diode_parameters_diffuse = static_hybrid_sys.calcparams_pvsyst(\n",
    "    dii=data['dii_effective'],\n",
    "    poa_diffuse_static=data['poa_diffuse_static_effective'],\n",
    "    temp_cell_cpv=data['temp_cell_35'],\n",
    "    temp_cell_diffuse=data['temp_cell_diffuse'],\n",
    ")"
   ]
  },
  {
   "cell_type": "markdown",
   "metadata": {},
   "source": [
    "singlediode"
   ]
  },
  {
   "cell_type": "code",
   "execution_count": 7,
   "metadata": {},
   "outputs": [],
   "source": [
    "dc_cpv, dc_diffuse = static_hybrid_sys.singlediode(\n",
    "    diode_parameters_cpv, diode_parameters_diffuse)"
   ]
  },
  {
   "cell_type": "markdown",
   "metadata": {},
   "source": [
    "uf_global (uf_am, uf_temp_air)"
   ]
  },
  {
   "cell_type": "code",
   "execution_count": 8,
   "metadata": {},
   "outputs": [],
   "source": [
    "airmass_absolute = location.get_airmass(data.index).airmass_absolute\n",
    "\n",
    "uf_cpv = static_hybrid_sys.get_global_utilization_factor_cpv(airmass_absolute, data['temp_air'],\n",
    "                                                                  solar_zenith, solar_azimuth)"
   ]
  },
  {
   "cell_type": "markdown",
   "metadata": {},
   "source": [
    "UF_am - Plot"
   ]
  },
  {
   "cell_type": "code",
   "execution_count": 9,
   "metadata": {},
   "outputs": [
    {
     "data": {
      "text/plain": [
       "[<matplotlib.lines.Line2D at 0x214bb069948>]"
      ]
     },
     "execution_count": 9,
     "metadata": {},
     "output_type": "execute_result"
    },
    {
     "data": {
      "image/png": "[encoded data removed]",
      "text/plain": [
       "<Figure size 432x288 with 1 Axes>"
      ]
     },
     "metadata": {
      "needs_background": "light"
     },
     "output_type": "display_data"
    }
   ],
   "source": [
    "UF_am = cpvlib.get_simple_util_factor(airmass_absolute, thld=mod_params_cpv['am_thld'], m_low=mod_params_cpv['am_uf_m_low'], m_high=mod_params_cpv['am_uf_m_high'])\n",
    "plt.plot(airmass_absolute, UF_am, '.')"
   ]
  },
  {
   "cell_type": "markdown",
   "metadata": {},
   "source": [
    "Energia"
   ]
  },
  {
   "cell_type": "code",
   "execution_count": 10,
   "metadata": {},
   "outputs": [
    {
     "name": "stdout",
     "output_type": "stream",
     "text": [
      "\n",
      "Tracker? False\n",
      "E_CPV=28326.567022520583 E_diff=8881.36661459171\n"
     ]
    }
   ],
   "source": [
    "print('\\nTracker?', static_hybrid_sys.in_tracker)\n",
    "\n",
    "energia_cpv = (dc_cpv['p_mp'] * uf_cpv).sum()\n",
    "energia_difusa = dc_diffuse['p_mp'].sum()\n",
    "\n",
    "print(f\"E_CPV={energia_cpv}\", f\"E_diff={energia_difusa}\")"
   ]
  }
 ],
 "metadata": {
  "kernelspec": {
   "display_name": "Python 3",
   "language": "python",
   "name": "python3"
  },
  "language_info": {
   "codemirror_mode": {
    "name": "ipython",
    "version": 3
   },
   "file_extension": ".py",
   "mimetype": "text/x-python",
   "name": "python",
   "nbconvert_exporter": "python",
   "pygments_lexer": "ipython3",
   "version": "3.7.7"
  }
 },
 "nbformat": 4,
 "nbformat_minor": 4
}
