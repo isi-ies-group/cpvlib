{
 "cells": [
  {
   "cell_type": "code",
   "execution_count": null,
   "metadata": {},
   "outputs": [],
   "source": [
    "!pip install pvlib\n",
    "!pip install cpvlib\n",
    "\n",
    "import matplotlib.pyplot as plt\n",
    "import pvlib\n",
    "\n",
    "from cpvlib import cpvsystem"
   ]
  },
  {
   "cell_type": "code",
   "execution_count": null,
   "metadata": {},
   "outputs": [],
   "source": [
    "# Active surface: 0.54 m2\n",
    "# CPV sub-module: III-V 3J solar cells, 216 parallel, 14 series\n",
    "# Flat plate sub-module: Si IBC solar cells, 64 in series\n",
    "# https://doi.org/10.5281/zenodo.3349781\n",
    "# 35 range IV: 0.7 A, 35 V @DNI 900 W/m2\n",
    "# Si range IV: 1.7 A, 2.2 V @GNI 950 W/m2 & DNI/GNI=0.7\n",
    "\n",
    "# https://pvlib-python.readthedocs.io/en/stable/generated/pvlib.pvsystem.calcparams_pvsyst.html\n",
    "\n",
    "# mod 191\n",
    "mod_params_cpv = {\n",
    "    \"gamma_ref\": 5.25, # Voltage adjustment. Previous 5.524\n",
    "    \"mu_gamma\": 0.0004,\n",
    "    \"I_L_ref\": 1*5,\n",
    "    \"I_o_ref\": 9e-10, \n",
    "    \"R_sh_ref\": 5226,\n",
    "    \"R_sh_0\": 21000,\n",
    "    \"R_sh_exp\": 5.50,\n",
    "    \"R_s\": 0.01,\n",
    "    \"alpha_sc\": 0.00,\n",
    "    \"EgRef\": 3.94,\n",
    "    \"irrad_ref\": 1000,\n",
    "    \"temp_ref\": 25,\n",
    "    \"cells_in_series\": 14,\n",
    "    \"eta_m\": 0.32,\n",
    "    \"alpha_absorption\": 0.9,\n",
    "    #\"b\": 0.7,\n",
    "    \"iam_model\": 'interp',\n",
    "    \"theta_ref\": [0, 5, 10, 15, 20, 25, 30, 35, 40, 45, 50, 54, 55, 56,90],\n",
    "    \"iam_ref\": [1.000, 1.007, 0.998, 0.991, 0.971, 0.966, 0.938, 0.894, 0.830, 0.790, 0.740, 0.649, 0.1, 0.002,0.001],\n",
    "}\n",
    "\n",
    "UF_parameters_cpv = {\n",
    "    \"IscDNI_top\": 1,\n",
    "    \"am_thld\": 1.25,\n",
    "    \"am_uf_m_low\": 0.4, #0.175\n",
    "    \"am_uf_m_high\": -0.5,  \n",
    "    \"ta_thld\": 15, #original 15.2\n",
    "    \"ta_uf_m_low\": 0.0, \n",
    "    \"ta_uf_m_high\": -0.00, \n",
    "    \"weight_am\": 1,\n",
    "    \"weight_temp\": 0,\n",
    "}\n",
    "\n",
    "mod_params_cpv.update(UF_parameters_cpv)\n",
    "\n",
    "# mod 120, 191 module does not include Si submodule\n",
    "mod_params_flatplate = {\n",
    "    \"gamma_ref\": 1.1, #ideality factor\n",
    "    \"mu_gamma\": -0.0003,\n",
    "    \"I_L_ref\": 2.05,\n",
    "    \"I_o_ref\": 1.5e-10,\n",
    "    \"R_sh_ref\": 200,\n",
    "    \"R_sh_0\": 600, # 4 times Rsh_ref typically acc. PVSYST\n",
    "    \"R_sh_exp\": 5.5,\n",
    "    \"R_s\": 0.6, #standard value\n",
    "    \"alpha_sc\": 0,\n",
    "    \"EgRef\": 1.121,\n",
    "    \"irrad_ref\": 1000,\n",
    "    \"temp_ref\": 25,\n",
    "    \"cells_in_series\": 64, # 8*8,\n",
    "    \"eta_m\": 0.2,  # module efficiency for pvlib.temperature.pvsyst_cell\n",
    "    \"alpha_absorption\": 0.6,  # more light is absorbed in the front cover than in conventional flat plate\n",
    "    \"aoi_limit\": 40, #should be 55°, buttracking mechanism is not working welll\n",
    "    \"iam_model\": 'interp',\n",
    "    \"theta_ref\": [0, 5, 15, 25, 35, 45,  55,   65,   70,   80,   85, 90],\n",
    "    \"iam_ref\":   [1, 1, 1,  1,  1,  1, 0.95,  0.7,  0.5,  0.5,  0.5, 0],\n",
    "    # \"iam_ref\": [1,  1,  0.9918,  0.9815,  0.9721,  0.9485,  0.9071,  0.6072,  0.00365,  0,  0] #THEIA cSI notebook\n",
    "    \n",
    "    \"theta_ref_spillage\": [0, 10, 20, 30, 40, 50, 55, 90],\n",
    "    \"iam_ref_spillage\": [1, 1, 1.02, 1.16,  1.37, 1.37, 1.37, 1.37] #Use if global spillage is 0.15   \n",
    "}"
   ]
  },
  {
   "cell_type": "code",
   "execution_count": null,
   "metadata": {},
   "outputs": [],
   "source": [
    "heat_dissipation_params_CPV = {'model': 'pvsyst', 'u_c': 9.5, 'u_v': 0}\n",
    "heat_dissipation_params_flatplate = {'model': 'pvsyst', 'u_c': 24, 'u_v': 0.05} # insulated is 15, freestanding is 29\n",
    "\n",
    "lat, lon = 40.4, -3.7\n",
    "\n",
    "data_pvgis = pvlib.iotools.get_pvgis_tmy(lat, lon)\n",
    "\n",
    "data = data_pvgis[0].rename(columns={\n",
    "    'Gb(n)': 'dni',\n",
    "    'G(h)': 'ghi',\n",
    "    'Gd(h)': 'dhi',\n",
    "    'T2m': 'temp_air',\n",
    "    'WS10m': 'wind_speed',\n",
    "})\n",
    "\n",
    "data = data.set_index(\n",
    "    data.index.map(lambda t: t.replace(year=2010)))\n",
    "\n",
    "location = pvlib.location.Location(\n",
    "    latitude=lat, longitude=lon, altitude=695, tz='utc')\n",
    "\n",
    "solar_zenith = location.get_solarposition(data.index).zenith\n",
    "solar_azimuth = location.get_solarposition(data.index).azimuth"
   ]
  },
  {
   "cell_type": "markdown",
   "metadata": {},
   "source": [
    "StaticHybridSystem"
   ]
  },
  {
   "cell_type": "code",
   "execution_count": null,
   "metadata": {},
   "outputs": [],
   "source": [
    "static_hybrid_sys = cpvsystem.StaticHybridSystem(\n",
    "    surface_tilt=30,\n",
    "    surface_azimuth=180,\n",
    "    module_cpv=None,\n",
    "    module_flatplate=None,\n",
    "    module_parameters_cpv=mod_params_cpv,\n",
    "    module_parameters_flatplate=mod_params_flatplate,\n",
    "    modules_per_string=1,\n",
    "    strings_per_inverter=1,\n",
    "    inverter=None,\n",
    "    inverter_parameters=None,\n",
    "    temperature_model_parameters_cpv=heat_dissipation_params_CPV,\n",
    "    temperature_model_parameters_flatplate=heat_dissipation_params_flatplate,\n",
    "    # racking_model=\"freestanding\", #not used because temp model parameters are already defined\n",
    "    losses_parameters=None,\n",
    "    name=None,\n",
    ")"
   ]
  },
  {
   "cell_type": "markdown",
   "metadata": {},
   "source": [
    "get_effective_irradiance"
   ]
  },
  {
   "cell_type": "code",
   "execution_count": null,
   "metadata": {},
   "outputs": [],
   "source": [
    "data['dii_effective'], data['poa_flatplate_static_effective'] = static_hybrid_sys.get_effective_irradiance(\n",
    "    solar_zenith,\n",
    "    solar_azimuth,\n",
    "    dii=None,\n",
    "    ghi=data['ghi'],\n",
    "    dhi=data['dhi'],\n",
    "    dni=data['dni'],\n",
    "    spillage=0.15 # Percentage of direct irradiance allowed to the flat plate within AOI range. This number comes from module 120.\n",
    "    # Spillage is highly dependent on the tracking accuracy of each module.\n",
    ")\n"
   ]
  },
  {
   "cell_type": "markdown",
   "metadata": {},
   "source": [
    "pvsyst_celltemp"
   ]
  },
  {
   "cell_type": "code",
   "execution_count": null,
   "metadata": {},
   "outputs": [],
   "source": [
    "data['temp_cell_35'], data['temp_cell_flatplate'] = static_hybrid_sys.pvsyst_celltemp(\n",
    "    dii=data['dii_effective'],\n",
    "    poa_flatplate_static=data['poa_flatplate_static_effective'] + data['dii_effective'], # It is very important to add direct light as well\n",
    "    temp_air=data['temp_air'],\n",
    "    wind_speed=data['wind_speed']\n",
    ")"
   ]
  },
  {
   "cell_type": "markdown",
   "metadata": {},
   "source": [
    "calcparams_pvsyst"
   ]
  },
  {
   "cell_type": "code",
   "execution_count": null,
   "metadata": {},
   "outputs": [],
   "source": [
    "diode_parameters_cpv, diode_parameters_flatplate = static_hybrid_sys.calcparams_pvsyst(\n",
    "    dii=data['dii_effective'],\n",
    "    poa_flatplate_static=data['poa_flatplate_static_effective'],\n",
    "    temp_cell_cpv=data['temp_cell_35'],\n",
    "    temp_cell_flatplate=data['temp_cell_flatplate'],\n",
    ")"
   ]
  },
  {
   "cell_type": "markdown",
   "metadata": {},
   "source": [
    "singlediode"
   ]
  },
  {
   "cell_type": "code",
   "execution_count": null,
   "metadata": {},
   "outputs": [],
   "source": [
    "dc_cpv, dc_flatplate = static_hybrid_sys.singlediode(\n",
    "    diode_parameters_cpv, diode_parameters_flatplate)"
   ]
  },
  {
   "cell_type": "markdown",
   "metadata": {},
   "source": [
    "uf_global (uf_am, uf_temp_air)"
   ]
  },
  {
   "cell_type": "code",
   "execution_count": null,
   "metadata": {},
   "outputs": [],
   "source": [
    "data['am'] = location.get_airmass(data.index).airmass_absolute\n",
    "uf_cpv = static_hybrid_sys.get_global_utilization_factor_cpv(data['am'], data['temp_air'])"
   ]
  },
  {
   "cell_type": "markdown",
   "metadata": {},
   "source": [
    "Power"
   ]
  },
  {
   "cell_type": "code",
   "execution_count": null,
   "metadata": {},
   "outputs": [],
   "source": [
    "cpv_days = dc_cpv['2010-06-15':'2010-06-20']\n",
    "uf_cpv_days = uf_cpv['2010-06-15':'2010-06-20']\n",
    "flatplate_days = dc_flatplate['2010-06-15':'2010-06-20']\n",
    "data_days = data['2010-06-15':'2010-06-20']\n",
    "\n",
    "fig, axs = plt.subplots(2)\n",
    "\n",
    "(cpv_days.p_mp * uf_cpv_days).plot(ax=axs[0], legend=True, label=\"CPV Pmpp\")\n",
    "flatplate_days.p_mp.plot(ax=axs[0], secondary_y=True, legend=True, label=\"Si Pmpp\")\n",
    "data_days[['dii_effective', 'poa_flatplate_static_effective']].plot(ax=axs[1], linewidth=1)"
   ]
  },
  {
   "cell_type": "markdown",
   "metadata": {},
   "source": [
    "Energy"
   ]
  },
  {
   "cell_type": "code",
   "execution_count": null,
   "metadata": {},
   "outputs": [],
   "source": [
    "energy_cpv = (dc_cpv['p_mp'] * uf_cpv).sum()\n",
    "energy_flatplate = dc_flatplate['p_mp'].sum()\n",
    "\n",
    "print(f\"E_CPV={energy_cpv:.0f} Wh\", f\"E_diff={energy_flatplate:.0f} Wh\")"
   ]
  }
 ],
 "metadata": {
  "kernelspec": {
   "display_name": "Python 3 (ipykernel)",
   "language": "python",
   "name": "python3"
  },
  "language_info": {
   "codemirror_mode": {
    "name": "ipython",
    "version": 3
   },
   "file_extension": ".py",
   "mimetype": "text/x-python",
   "name": "python",
   "nbconvert_exporter": "python",
   "pygments_lexer": "ipython3",
   "version": "3.9.10"
  }
 },
 "nbformat": 4,
 "nbformat_minor": 4
}
